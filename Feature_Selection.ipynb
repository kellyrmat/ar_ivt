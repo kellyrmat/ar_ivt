{
 "cells": [
  {
   "attachments": {},
   "cell_type": "markdown",
   "metadata": {},
   "source": [
    "### **Notebook Setup**"
   ]
  },
  {
   "attachments": {},
   "cell_type": "markdown",
   "metadata": {},
   "source": [
    "**Import Packages**"
   ]
  },
  {
   "cell_type": "code",
   "execution_count": 240,
   "metadata": {},
   "outputs": [],
   "source": [
    "import numpy as np\n",
    "import pandas as pd\n",
    "from scipy import stats\n",
    "\n",
    "from sklearn.model_selection import train_test_split\n",
    "from sklearn.datasets import make_classification, make_regression\n",
    "\n",
    "from hyperopt import hp\n",
    "from hyperopt import Trials\n",
    "\n",
    "from xgboost import *\n",
    "\n",
    "from shaphypetune import BoostSearch, BoostRFE, BoostRFA, BoostBoruta\n",
    "from itertools import combinations\n",
    "\n",
    "from sklearn.metrics import mean_squared_error, r2_score\n",
    "import matplotlib.pyplot as plt"
   ]
  },
  {
   "attachments": {},
   "cell_type": "markdown",
   "metadata": {},
   "source": [
    "**Read in the csv data from file**"
   ]
  },
  {
   "cell_type": "code",
   "execution_count": 230,
   "metadata": {},
   "outputs": [],
   "source": [
    "\n",
    "# Read the atmospheric river teleconnection pattern dataframe\n",
    "ar_tcp = pd.read_csv(\"PacificAR_Strength-Attributes.csv\")\n",
    "\n",
    "# Grab the dataframe values\n",
    "y = ar_tcp['strength'] # Want to predict the AR's average IVT\n",
    "\n",
    "# No size characteristics included! \n",
    "x = ar_tcp[['BulkAxisDi','SSD_Theta','centroid_y', 'centroid_x', 'PMM', 'QBO', 'MEI', 'Phase','Curvature', 'Displacement','origin_lat', 'origin_lon',\n",
    "       'Amplitude', 'pna_index_cdas', 'nao_index_cdas','month']] # Using physical characteristics contextualized within a synoptic environment using teleconnection pattern indices\n",
    "\n",
    "# Seperate into Test-Train splits\n",
    "X_train, X_test, y_train, y_test = train_test_split(x,y,train_size=0.8,random_state=42, shuffle=True)"
   ]
  },
  {
   "attachments": {},
   "cell_type": "markdown",
   "metadata": {},
   "source": [
    "## **Feature Selection**"
   ]
  },
  {
   "attachments": {},
   "cell_type": "markdown",
   "metadata": {},
   "source": [
    "### **Boruta Feature Selection**"
   ]
  },
  {
   "cell_type": "code",
   "execution_count": 232,
   "metadata": {},
   "outputs": [
    {
     "name": "stdout",
     "output_type": "stream",
     "text": [
      "\n",
      "20 trials detected for ('n_estimators', 'learning_rate', 'num_leaves')\n",
      "\n",
      "<class 'int'>\n",
      "<class 'dict'>\n"
     ]
    },
    {
     "name": "stderr",
     "output_type": "stream",
     "text": [
      "`early_stopping_rounds` in `fit` method is deprecated for better compatibility with scikit-learn, use `early_stopping_rounds` in constructor or`set_params` instead.\n",
      "`early_stopping_rounds` in `fit` method is deprecated for better compatibility with scikit-learn, use `early_stopping_rounds` in constructor or`set_params` instead.\n",
      "`early_stopping_rounds` in `fit` method is deprecated for better compatibility with scikit-learn, use `early_stopping_rounds` in constructor or`set_params` instead.\n",
      "`early_stopping_rounds` in `fit` method is deprecated for better compatibility with scikit-learn, use `early_stopping_rounds` in constructor or`set_params` instead.\n",
      "`early_stopping_rounds` in `fit` method is deprecated for better compatibility with scikit-learn, use `early_stopping_rounds` in constructor or`set_params` instead.\n",
      "`early_stopping_rounds` in `fit` method is deprecated for better compatibility with scikit-learn, use `early_stopping_rounds` in constructor or`set_params` instead.\n",
      "`early_stopping_rounds` in `fit` method is deprecated for better compatibility with scikit-learn, use `early_stopping_rounds` in constructor or`set_params` instead.\n",
      "`early_stopping_rounds` in `fit` method is deprecated for better compatibility with scikit-learn, use `early_stopping_rounds` in constructor or`set_params` instead.\n",
      "`early_stopping_rounds` in `fit` method is deprecated for better compatibility with scikit-learn, use `early_stopping_rounds` in constructor or`set_params` instead.\n",
      "`early_stopping_rounds` in `fit` method is deprecated for better compatibility with scikit-learn, use `early_stopping_rounds` in constructor or`set_params` instead.\n"
     ]
    },
    {
     "name": "stdout",
     "output_type": "stream",
     "text": [
      "trial: 0001 ### iterations: 00162 ### eval_score: 54.8962\n",
      "<class 'int'>\n",
      "<class 'dict'>\n"
     ]
    },
    {
     "name": "stderr",
     "output_type": "stream",
     "text": [
      "`early_stopping_rounds` in `fit` method is deprecated for better compatibility with scikit-learn, use `early_stopping_rounds` in constructor or`set_params` instead.\n",
      "`early_stopping_rounds` in `fit` method is deprecated for better compatibility with scikit-learn, use `early_stopping_rounds` in constructor or`set_params` instead.\n",
      "`early_stopping_rounds` in `fit` method is deprecated for better compatibility with scikit-learn, use `early_stopping_rounds` in constructor or`set_params` instead.\n",
      "`early_stopping_rounds` in `fit` method is deprecated for better compatibility with scikit-learn, use `early_stopping_rounds` in constructor or`set_params` instead.\n",
      "`early_stopping_rounds` in `fit` method is deprecated for better compatibility with scikit-learn, use `early_stopping_rounds` in constructor or`set_params` instead.\n",
      "`early_stopping_rounds` in `fit` method is deprecated for better compatibility with scikit-learn, use `early_stopping_rounds` in constructor or`set_params` instead.\n",
      "`early_stopping_rounds` in `fit` method is deprecated for better compatibility with scikit-learn, use `early_stopping_rounds` in constructor or`set_params` instead.\n",
      "`early_stopping_rounds` in `fit` method is deprecated for better compatibility with scikit-learn, use `early_stopping_rounds` in constructor or`set_params` instead.\n",
      "`early_stopping_rounds` in `fit` method is deprecated for better compatibility with scikit-learn, use `early_stopping_rounds` in constructor or`set_params` instead.\n",
      "`early_stopping_rounds` in `fit` method is deprecated for better compatibility with scikit-learn, use `early_stopping_rounds` in constructor or`set_params` instead.\n"
     ]
    },
    {
     "name": "stdout",
     "output_type": "stream",
     "text": [
      "trial: 0002 ### iterations: 00141 ### eval_score: 54.54777\n",
      "<class 'int'>\n",
      "<class 'dict'>\n"
     ]
    },
    {
     "name": "stderr",
     "output_type": "stream",
     "text": [
      "`early_stopping_rounds` in `fit` method is deprecated for better compatibility with scikit-learn, use `early_stopping_rounds` in constructor or`set_params` instead.\n",
      "`early_stopping_rounds` in `fit` method is deprecated for better compatibility with scikit-learn, use `early_stopping_rounds` in constructor or`set_params` instead.\n",
      "`early_stopping_rounds` in `fit` method is deprecated for better compatibility with scikit-learn, use `early_stopping_rounds` in constructor or`set_params` instead.\n",
      "`early_stopping_rounds` in `fit` method is deprecated for better compatibility with scikit-learn, use `early_stopping_rounds` in constructor or`set_params` instead.\n",
      "`early_stopping_rounds` in `fit` method is deprecated for better compatibility with scikit-learn, use `early_stopping_rounds` in constructor or`set_params` instead.\n"
     ]
    },
    {
     "ename": "KeyboardInterrupt",
     "evalue": "",
     "output_type": "error",
     "traceback": [
      "\u001b[1;31m---------------------------------------------------------------------------\u001b[0m",
      "\u001b[1;31mKeyboardInterrupt\u001b[0m                         Traceback (most recent call last)",
      "Cell \u001b[1;32mIn[232], line 21\u001b[0m\n\u001b[0;32m     12\u001b[0m xgb_regBoruta \u001b[39m=\u001b[39m BoostBoruta(xgb_reg, max_iter\u001b[39m=\u001b[39m\u001b[39m20\u001b[39m, perc\u001b[39m=\u001b[39m\u001b[39m100\u001b[39m,\n\u001b[0;32m     13\u001b[0m                              importance_type\u001b[39m=\u001b[39m\u001b[39m'\u001b[39m\u001b[39mshap_importances\u001b[39m\u001b[39m'\u001b[39m,\n\u001b[0;32m     14\u001b[0m                              train_importance\u001b[39m=\u001b[39m\u001b[39mFalse\u001b[39;00m,\n\u001b[1;32m   (...)\u001b[0m\n\u001b[0;32m     17\u001b[0m                              n_jobs\u001b[39m=\u001b[39m\u001b[39mNone\u001b[39;00m,\n\u001b[0;32m     18\u001b[0m                              sampling_seed\u001b[39m=\u001b[39m\u001b[39m42\u001b[39m)\n\u001b[0;32m     20\u001b[0m \u001b[39m# Search for optimal combination of features and parameters\u001b[39;00m\n\u001b[1;32m---> 21\u001b[0m xgb_regBoruta\u001b[39m.\u001b[39;49mfit(X_train, y_train, eval_set\u001b[39m=\u001b[39;49m[(X_test, y_test)], early_stopping_rounds\u001b[39m=\u001b[39;49m\u001b[39m6\u001b[39;49m, verbose\u001b[39m=\u001b[39;49m\u001b[39m0\u001b[39;49m) \u001b[39m# 2 minutes\u001b[39;00m\n",
      "File \u001b[1;32mc:\\Users\\kellyrm\\AppData\\Local\\miniconda3\\envs\\xgb_tuning\\Lib\\site-packages\\shaphypetune\\_classes.py:191\u001b[0m, in \u001b[0;36m_BoostSearch.fit\u001b[1;34m(self, X, y, trials, **fit_params)\u001b[0m\n\u001b[0;32m    188\u001b[0m     all_results \u001b[39m=\u001b[39m trials\u001b[39m.\u001b[39mresults\n\u001b[0;32m    190\u001b[0m \u001b[39melse\u001b[39;00m:\n\u001b[1;32m--> 191\u001b[0m     all_results \u001b[39m=\u001b[39m Parallel(\n\u001b[0;32m    192\u001b[0m         n_jobs\u001b[39m=\u001b[39;49m\u001b[39mself\u001b[39;49m\u001b[39m.\u001b[39;49mn_jobs, verbose\u001b[39m=\u001b[39;49m\u001b[39mself\u001b[39;49m\u001b[39m.\u001b[39;49mverbose \u001b[39m*\u001b[39;49m \u001b[39mint\u001b[39;49m(\u001b[39mbool\u001b[39;49m(\u001b[39mself\u001b[39;49m\u001b[39m.\u001b[39;49mn_jobs))\n\u001b[0;32m    193\u001b[0m     )(delayed(\u001b[39mself\u001b[39;49m\u001b[39m.\u001b[39;49m_fit)(X, y, fit_params, params)\n\u001b[0;32m    194\u001b[0m       \u001b[39mfor\u001b[39;49;00m params \u001b[39min\u001b[39;49;00m \u001b[39mself\u001b[39;49m\u001b[39m.\u001b[39;49m_param_combi)\n\u001b[0;32m    196\u001b[0m \u001b[39m# extract results from parallel loops\u001b[39;00m\n\u001b[0;32m    197\u001b[0m \u001b[39mself\u001b[39m\u001b[39m.\u001b[39mtrials_, \u001b[39mself\u001b[39m\u001b[39m.\u001b[39miterations_, \u001b[39mself\u001b[39m\u001b[39m.\u001b[39mscores_, models \u001b[39m=\u001b[39m [], [], [], []\n",
      "File \u001b[1;32mc:\\Users\\kellyrm\\AppData\\Local\\miniconda3\\envs\\xgb_tuning\\Lib\\site-packages\\joblib\\parallel.py:1863\u001b[0m, in \u001b[0;36mParallel.__call__\u001b[1;34m(self, iterable)\u001b[0m\n\u001b[0;32m   1861\u001b[0m     output \u001b[39m=\u001b[39m \u001b[39mself\u001b[39m\u001b[39m.\u001b[39m_get_sequential_output(iterable)\n\u001b[0;32m   1862\u001b[0m     \u001b[39mnext\u001b[39m(output)\n\u001b[1;32m-> 1863\u001b[0m     \u001b[39mreturn\u001b[39;00m output \u001b[39mif\u001b[39;00m \u001b[39mself\u001b[39m\u001b[39m.\u001b[39mreturn_generator \u001b[39melse\u001b[39;00m \u001b[39mlist\u001b[39;49m(output)\n\u001b[0;32m   1865\u001b[0m \u001b[39m# Let's create an ID that uniquely identifies the current call. If the\u001b[39;00m\n\u001b[0;32m   1866\u001b[0m \u001b[39m# call is interrupted early and that the same instance is immediately\u001b[39;00m\n\u001b[0;32m   1867\u001b[0m \u001b[39m# re-used, this id will be used to prevent workers that were\u001b[39;00m\n\u001b[0;32m   1868\u001b[0m \u001b[39m# concurrently finalizing a task from the previous call to run the\u001b[39;00m\n\u001b[0;32m   1869\u001b[0m \u001b[39m# callback.\u001b[39;00m\n\u001b[0;32m   1870\u001b[0m \u001b[39mwith\u001b[39;00m \u001b[39mself\u001b[39m\u001b[39m.\u001b[39m_lock:\n",
      "File \u001b[1;32mc:\\Users\\kellyrm\\AppData\\Local\\miniconda3\\envs\\xgb_tuning\\Lib\\site-packages\\joblib\\parallel.py:1792\u001b[0m, in \u001b[0;36mParallel._get_sequential_output\u001b[1;34m(self, iterable)\u001b[0m\n\u001b[0;32m   1790\u001b[0m \u001b[39mself\u001b[39m\u001b[39m.\u001b[39mn_dispatched_batches \u001b[39m+\u001b[39m\u001b[39m=\u001b[39m \u001b[39m1\u001b[39m\n\u001b[0;32m   1791\u001b[0m \u001b[39mself\u001b[39m\u001b[39m.\u001b[39mn_dispatched_tasks \u001b[39m+\u001b[39m\u001b[39m=\u001b[39m \u001b[39m1\u001b[39m\n\u001b[1;32m-> 1792\u001b[0m res \u001b[39m=\u001b[39m func(\u001b[39m*\u001b[39;49margs, \u001b[39m*\u001b[39;49m\u001b[39m*\u001b[39;49mkwargs)\n\u001b[0;32m   1793\u001b[0m \u001b[39mself\u001b[39m\u001b[39m.\u001b[39mn_completed_tasks \u001b[39m+\u001b[39m\u001b[39m=\u001b[39m \u001b[39m1\u001b[39m\n\u001b[0;32m   1794\u001b[0m \u001b[39mself\u001b[39m\u001b[39m.\u001b[39mprint_progress()\n",
      "File \u001b[1;32mc:\\Users\\kellyrm\\AppData\\Local\\miniconda3\\envs\\xgb_tuning\\Lib\\site-packages\\shaphypetune\\_classes.py:67\u001b[0m, in \u001b[0;36m_BoostSearch._fit\u001b[1;34m(self, X, y, fit_params, params)\u001b[0m\n\u001b[0;32m     65\u001b[0m model \u001b[39m=\u001b[39m \u001b[39mself\u001b[39m\u001b[39m.\u001b[39m_build_model(params)\n\u001b[0;32m     66\u001b[0m \u001b[39mif\u001b[39;00m \u001b[39misinstance\u001b[39m(model, _BoostSelector):\n\u001b[1;32m---> 67\u001b[0m     model\u001b[39m.\u001b[39;49mfit(X\u001b[39m=\u001b[39;49mX, y\u001b[39m=\u001b[39;49my, \u001b[39m*\u001b[39;49m\u001b[39m*\u001b[39;49mfit_params)\n\u001b[0;32m     68\u001b[0m \u001b[39melse\u001b[39;00m:\n\u001b[0;32m     69\u001b[0m     \u001b[39mwith\u001b[39;00m contextlib\u001b[39m.\u001b[39mredirect_stdout(io\u001b[39m.\u001b[39mStringIO()):\n",
      "File \u001b[1;32mc:\\Users\\kellyrm\\AppData\\Local\\miniconda3\\envs\\xgb_tuning\\Lib\\site-packages\\shaphypetune\\_classes.py:557\u001b[0m, in \u001b[0;36m_Boruta.fit\u001b[1;34m(self, X, y, **fit_params)\u001b[0m\n\u001b[0;32m    555\u001b[0m \u001b[39melse\u001b[39;00m:\n\u001b[0;32m    556\u001b[0m     \u001b[39mif\u001b[39;00m eval_importance:\n\u001b[1;32m--> 557\u001b[0m         coefs \u001b[39m=\u001b[39m _shap_importances(\n\u001b[0;32m    558\u001b[0m             estimator, _fit_params[\u001b[39m'\u001b[39;49m\u001b[39meval_set\u001b[39;49m\u001b[39m'\u001b[39;49m][\u001b[39m-\u001b[39;49m\u001b[39m1\u001b[39;49m][\u001b[39m0\u001b[39;49m])\n\u001b[0;32m    559\u001b[0m     \u001b[39melse\u001b[39;00m:\n\u001b[0;32m    560\u001b[0m         coefs \u001b[39m=\u001b[39m _shap_importances(estimator, _X)\n",
      "File \u001b[1;32mc:\\Users\\kellyrm\\AppData\\Local\\miniconda3\\envs\\xgb_tuning\\Lib\\site-packages\\shaphypetune\\utils.py:38\u001b[0m, in \u001b[0;36m_shap_importances\u001b[1;34m(model, X)\u001b[0m\n\u001b[0;32m     28\u001b[0m \u001b[39m\u001b[39m\u001b[39m\"\"\"Extract feature importances from fitted boosting models\u001b[39;00m\n\u001b[0;32m     29\u001b[0m \u001b[39musing TreeExplainer from shap.\u001b[39;00m\n\u001b[0;32m     30\u001b[0m \n\u001b[1;32m   (...)\u001b[0m\n\u001b[0;32m     33\u001b[0m \u001b[39marray of feature importances.\u001b[39;00m\n\u001b[0;32m     34\u001b[0m \u001b[39m\"\"\"\u001b[39;00m\n\u001b[0;32m     36\u001b[0m explainer \u001b[39m=\u001b[39m TreeExplainer(\n\u001b[0;32m     37\u001b[0m     model, feature_perturbation\u001b[39m=\u001b[39m\u001b[39m\"\u001b[39m\u001b[39mtree_path_dependent\u001b[39m\u001b[39m\"\u001b[39m)\n\u001b[1;32m---> 38\u001b[0m coefs \u001b[39m=\u001b[39m explainer\u001b[39m.\u001b[39;49mshap_values(X)\n\u001b[0;32m     40\u001b[0m \u001b[39mif\u001b[39;00m \u001b[39misinstance\u001b[39m(coefs, \u001b[39mlist\u001b[39m):\n\u001b[0;32m     41\u001b[0m     coefs \u001b[39m=\u001b[39m \u001b[39mlist\u001b[39m(\u001b[39mmap\u001b[39m(\u001b[39mlambda\u001b[39;00m x: np\u001b[39m.\u001b[39mabs(x)\u001b[39m.\u001b[39mmean(\u001b[39m0\u001b[39m), coefs))\n",
      "File \u001b[1;32mc:\\Users\\kellyrm\\AppData\\Local\\miniconda3\\envs\\xgb_tuning\\Lib\\site-packages\\shap\\explainers\\_tree.py:358\u001b[0m, in \u001b[0;36mTree.shap_values\u001b[1;34m(self, X, y, tree_limit, approximate, check_additivity, from_call)\u001b[0m\n\u001b[0;32m    356\u001b[0m     tree_limit \u001b[39m=\u001b[39m \u001b[39m0\u001b[39m\n\u001b[0;32m    357\u001b[0m \u001b[39mtry\u001b[39;00m:\n\u001b[1;32m--> 358\u001b[0m     phi \u001b[39m=\u001b[39m \u001b[39mself\u001b[39;49m\u001b[39m.\u001b[39;49mmodel\u001b[39m.\u001b[39;49moriginal_model\u001b[39m.\u001b[39;49mpredict(\n\u001b[0;32m    359\u001b[0m         X, iteration_range\u001b[39m=\u001b[39;49m(\u001b[39m0\u001b[39;49m, tree_limit), pred_contribs\u001b[39m=\u001b[39;49m\u001b[39mTrue\u001b[39;49;00m,\n\u001b[0;32m    360\u001b[0m         approx_contribs\u001b[39m=\u001b[39;49mapproximate, validate_features\u001b[39m=\u001b[39;49m\u001b[39mFalse\u001b[39;49;00m\n\u001b[0;32m    361\u001b[0m     )\n\u001b[0;32m    362\u001b[0m \u001b[39mexcept\u001b[39;00m \u001b[39mValueError\u001b[39;00m \u001b[39mas\u001b[39;00m e:\n\u001b[0;32m    363\u001b[0m     emsg \u001b[39m=\u001b[39m (\n\u001b[0;32m    364\u001b[0m         \u001b[39m\"\u001b[39m\u001b[39mThis reshape error is often caused by passing a bad data matrix to SHAP. \u001b[39m\u001b[39m\"\u001b[39m\n\u001b[0;32m    365\u001b[0m         \u001b[39m\"\u001b[39m\u001b[39mSee https://github.com/slundberg/shap/issues/580.\u001b[39m\u001b[39m\"\u001b[39m\n\u001b[0;32m    366\u001b[0m     )\n",
      "File \u001b[1;32mc:\\Users\\kellyrm\\AppData\\Local\\miniconda3\\envs\\xgb_tuning\\Lib\\site-packages\\xgboost\\core.py:2173\u001b[0m, in \u001b[0;36mBooster.predict\u001b[1;34m(self, data, output_margin, ntree_limit, pred_leaf, pred_contribs, approx_contribs, pred_interactions, validate_features, training, iteration_range, strict_shape)\u001b[0m\n\u001b[0;32m   2162\u001b[0m dims \u001b[39m=\u001b[39m c_bst_ulong()\n\u001b[0;32m   2163\u001b[0m _check_call(\n\u001b[0;32m   2164\u001b[0m     _LIB\u001b[39m.\u001b[39mXGBoosterPredictFromDMatrix(\n\u001b[0;32m   2165\u001b[0m         \u001b[39mself\u001b[39m\u001b[39m.\u001b[39mhandle,\n\u001b[1;32m   (...)\u001b[0m\n\u001b[0;32m   2171\u001b[0m     )\n\u001b[0;32m   2172\u001b[0m )\n\u001b[1;32m-> 2173\u001b[0m \u001b[39mreturn\u001b[39;00m _prediction_output(shape, dims, preds, \u001b[39mFalse\u001b[39;49;00m)\n",
      "File \u001b[1;32mc:\\Users\\kellyrm\\AppData\\Local\\miniconda3\\envs\\xgb_tuning\\Lib\\site-packages\\xgboost\\core.py:417\u001b[0m, in \u001b[0;36m_prediction_output\u001b[1;34m(shape, dims, predts, is_cuda)\u001b[0m\n\u001b[0;32m    415\u001b[0m     arr_predict \u001b[39m=\u001b[39m ctypes2cupy(predts, length, np\u001b[39m.\u001b[39mfloat32)\n\u001b[0;32m    416\u001b[0m \u001b[39melse\u001b[39;00m:\n\u001b[1;32m--> 417\u001b[0m     arr_predict \u001b[39m=\u001b[39m ctypes2numpy(predts, length, np\u001b[39m.\u001b[39;49mfloat32)\n\u001b[0;32m    418\u001b[0m arr_predict \u001b[39m=\u001b[39m arr_predict\u001b[39m.\u001b[39mreshape(arr_shape)\n\u001b[0;32m    419\u001b[0m \u001b[39mreturn\u001b[39;00m arr_predict\n",
      "File \u001b[1;32mc:\\Users\\kellyrm\\AppData\\Local\\miniconda3\\envs\\xgb_tuning\\Lib\\site-packages\\xgboost\\core.py:349\u001b[0m, in \u001b[0;36mctypes2numpy\u001b[1;34m(cptr, length, dtype)\u001b[0m\n\u001b[0;32m    347\u001b[0m \u001b[39mif\u001b[39;00m \u001b[39mnot\u001b[39;00m \u001b[39misinstance\u001b[39m(cptr, ctypes\u001b[39m.\u001b[39mPOINTER(ctype)):  \u001b[39m# type: ignore\u001b[39;00m\n\u001b[0;32m    348\u001b[0m     \u001b[39mraise\u001b[39;00m \u001b[39mRuntimeError\u001b[39;00m(\u001b[39mf\u001b[39m\u001b[39m\"\u001b[39m\u001b[39mexpected \u001b[39m\u001b[39m{\u001b[39;00mctype\u001b[39m}\u001b[39;00m\u001b[39m pointer\u001b[39m\u001b[39m\"\u001b[39m)\n\u001b[1;32m--> 349\u001b[0m res \u001b[39m=\u001b[39m np\u001b[39m.\u001b[39mzeros(length, dtype\u001b[39m=\u001b[39mdtype)\n\u001b[0;32m    350\u001b[0m \u001b[39mif\u001b[39;00m \u001b[39mnot\u001b[39;00m ctypes\u001b[39m.\u001b[39mmemmove(res\u001b[39m.\u001b[39mctypes\u001b[39m.\u001b[39mdata, cptr, length \u001b[39m*\u001b[39m res\u001b[39m.\u001b[39mstrides[\u001b[39m0\u001b[39m]):\n\u001b[0;32m    351\u001b[0m     \u001b[39mraise\u001b[39;00m \u001b[39mRuntimeError\u001b[39;00m(\u001b[39m\"\u001b[39m\u001b[39mmemmove failed\u001b[39m\u001b[39m\"\u001b[39m)\n",
      "\u001b[1;31mKeyboardInterrupt\u001b[0m: "
     ]
    }
   ],
   "source": [
    "# Initiate the XGboosted regressor\n",
    "xgb_reg = XGBRegressor()\n",
    "\n",
    "# Specify the hyperparameter distribution to search\n",
    "param_dist = {\n",
    "    'n_estimators': stats.randint(50,500),\n",
    "    'learning_rate': stats.uniform(0.01, 0.9),\n",
    "    'num_leaves': stats.randint(20,40)\n",
    "}\n",
    "\n",
    "# Tune hyperparameters and conduct Boruta feature selection simultaneously\n",
    "xgb_regBoruta = BoostBoruta(xgb_reg, max_iter=20, perc=100,\n",
    "                             importance_type='shap_importances',\n",
    "                             train_importance=False,\n",
    "                             param_grid=param_dist,\n",
    "                             n_iter=20,\n",
    "                             n_jobs=None,\n",
    "                             sampling_seed=42)\n",
    "\n",
    "# Search for optimal combination of features and parameters\n",
    "xgb_regBoruta.fit(X_train, y_train, eval_set=[(X_test, y_test)], early_stopping_rounds=6, verbose=0) # 2 minutes\n"
   ]
  },
  {
   "attachments": {},
   "cell_type": "markdown",
   "metadata": {},
   "source": [
    "**Examining the Results of Boruta**"
   ]
  },
  {
   "cell_type": "code",
   "execution_count": null,
   "metadata": {},
   "outputs": [
    {
     "name": "stdout",
     "output_type": "stream",
     "text": [
      "Attributes before RFE: ['centroid_y' 'centroid_x' 'PMM' 'QBO' 'MEI' 'origin_lat' 'origin_lon'\n",
      " 'Amplitude' 'pna_index_cdas' 'nao_index_cdas' 'month']\n",
      "\n",
      "Attributes after RFE: ['centroid_y' 'centroid_x' 'PMM' 'QBO' 'MEI' 'origin_lat' 'origin_lon'\n",
      " 'Amplitude' 'pna_index_cdas' 'nao_index_cdas' 'month']\n",
      "\n",
      "Attributes eliminated during RFE: []\n",
      "\n"
     ]
    }
   ],
   "source": [
    "print('Attributes before RFE: {}\\n'.format(X_train.columns.values))\n",
    "\n",
    "print('Attributes after RFE: {}\\n'.format(X_train.columns[xgb_regBoruta.get_support()].values))\n",
    "\n",
    "print('Attributes eliminated during RFE: {}\\n'.format(X_train.columns[(xgb_regBoruta.get_support()==False)].values))"
   ]
  },
  {
   "attachments": {},
   "cell_type": "markdown",
   "metadata": {},
   "source": [
    "*Boruta search hasn't found any attribute to be useless*"
   ]
  },
  {
   "attachments": {},
   "cell_type": "markdown",
   "metadata": {},
   "source": [
    "### **Recursive Feature Addition**"
   ]
  },
  {
   "cell_type": "code",
   "execution_count": null,
   "metadata": {},
   "outputs": [],
   "source": [
    "# Initiate the XGboosted regressor\n",
    "xgb_reg = XGBRegressor()\n",
    "\n",
    "# Specify the hyperparameter distribution to search\n",
    "param_dist = {\n",
    "    'n_estimators': stats.randint(50,500),\n",
    "    'learning_rate': stats.uniform(0.01, 0.9),\n",
    "    'num_leaves': stats.randint(20,40)\n",
    "}\n",
    "\n",
    "# Build the wrapper method\n",
    "xgb_reg_rfa = BoostRFA(xgb_reg,\n",
    "                       min_features_to_select=1,\n",
    "                       step=1,\n",
    "                       param_grid=param_dist,\n",
    "                       greater_is_better=False,\n",
    "                       importance_type='shap_importances',\n",
    "                       train_importance=False,\n",
    "                       verbose=1,\n",
    "                       n_iter=20,\n",
    "                       n_jobs=None                          \n",
    ")\n",
    "\n",
    "\n",
    "# Search for optimal combination of features\n",
    "xgb_reg_rfa.fit(X_train, y_train, eval_set=[(X_test, y_test)], early_stopping_rounds=6) #1.5 minutes"
   ]
  },
  {
   "attachments": {},
   "cell_type": "markdown",
   "metadata": {},
   "source": [
    "**Check the Feature Selection's Results**"
   ]
  },
  {
   "cell_type": "code",
   "execution_count": 235,
   "metadata": {},
   "outputs": [
    {
     "name": "stdout",
     "output_type": "stream",
     "text": [
      "Attributes before RFA: ['BulkAxisDi' 'SSD_Theta' 'centroid_y' 'centroid_x' 'PMM' 'QBO' 'MEI'\n",
      " 'Phase' 'Curvature' 'Displacement' 'origin_lat' 'origin_lon' 'Amplitude'\n",
      " 'pna_index_cdas' 'nao_index_cdas' 'month']\n",
      "\n",
      "Attributes after RFA: ['BulkAxisDi' 'SSD_Theta' 'centroid_y' 'centroid_x' 'PMM' 'QBO' 'MEI'\n",
      " 'Curvature' 'Displacement' 'origin_lat' 'origin_lon' 'Amplitude'\n",
      " 'pna_index_cdas' 'nao_index_cdas' 'month']\n",
      "\n",
      "Attributes suggested to be eliminated by RFA: ['Phase']\n",
      "\n"
     ]
    }
   ],
   "source": [
    "print('Attributes before RFA: {}\\n'.format(X_train.columns.values))\n",
    "\n",
    "print('Attributes after RFA: {}\\n'.format(X_train.columns[xgb_reg_rfa.get_support()].values))\n",
    "\n",
    "print('Attributes suggested to be eliminated by RFA: {}\\n'.format(X_train.columns[(xgb_reg_rfa.get_support()==False)].values))\n"
   ]
  },
  {
   "attachments": {},
   "cell_type": "markdown",
   "metadata": {},
   "source": [
    "Recursive Feature Addition suggests that the MJO Phase is not a useful attribute"
   ]
  },
  {
   "attachments": {},
   "cell_type": "markdown",
   "metadata": {},
   "source": [
    "### **Recursive Feature Elimination**"
   ]
  },
  {
   "cell_type": "code",
   "execution_count": null,
   "metadata": {},
   "outputs": [],
   "source": [
    "# Initiate the XGboosted regressor\n",
    "xgb_reg = XGBRegressor()\n",
    "\n",
    "# Specify the hyperparameter distribution to search\n",
    "param_dist = {\n",
    "    'n_estimators': stats.randint(50,500),\n",
    "    'learning_rate': stats.uniform(0.01, 0.9),\n",
    "    'num_leaves': stats.randint(20,40)\n",
    "}\n",
    "\n",
    "# Build the wrapper method\n",
    "xgb_reg_rfe = BoostRFE(xgb_reg,\n",
    "                       min_features_to_select=1,\n",
    "                       step=1,\n",
    "                       param_grid=param_dist,\n",
    "                       greater_is_better=False,\n",
    "                       importance_type='shap_importances',\n",
    "                       train_importance=False,\n",
    "                       verbose=1,\n",
    "                       n_iter=20,\n",
    "                       n_jobs=None                          \n",
    ")\n",
    "\n",
    "\n",
    "# Search for optimal combination of features\n",
    "xgb_reg_rfe.fit(X_train, y_train, eval_set=[(X_test, y_test)], early_stopping_rounds=6) # 9 minutes"
   ]
  },
  {
   "attachments": {},
   "cell_type": "markdown",
   "metadata": {},
   "source": [
    " Best Parameters: {'n_estimators': 432, 'learning_rate': 0.387514395454483, 'num_leaves': 20 }"
   ]
  },
  {
   "attachments": {},
   "cell_type": "markdown",
   "metadata": {},
   "source": [
    "**Examine the results of Recursive Feature Elimination**"
   ]
  },
  {
   "cell_type": "code",
   "execution_count": 239,
   "metadata": {},
   "outputs": [
    {
     "name": "stdout",
     "output_type": "stream",
     "text": [
      "Attributes before RFE: ['BulkAxisDi' 'SSD_Theta' 'centroid_y' 'centroid_x' 'PMM' 'QBO' 'MEI'\n",
      " 'Phase' 'Curvature' 'Displacement' 'origin_lat' 'origin_lon' 'Amplitude'\n",
      " 'pna_index_cdas' 'nao_index_cdas' 'month']\n",
      "\n",
      "Attributes after RFE: ['BulkAxisDi' 'centroid_y' 'centroid_x' 'PMM' 'QBO' 'MEI' 'Curvature'\n",
      " 'Displacement' 'origin_lat' 'Amplitude' 'pna_index_cdas' 'nao_index_cdas'\n",
      " 'month']\n",
      "\n",
      "Attributes eliminated during RFE: ['SSD_Theta' 'Phase' 'origin_lon']\n",
      "\n"
     ]
    }
   ],
   "source": [
    "print('Attributes before RFE: {}\\n'.format(X_train.columns.values))\n",
    "\n",
    "print('Attributes after RFE: {}\\n'.format(X_train.columns[xgb_reg_rfe.get_support()].values))\n",
    "\n",
    "print('Attributes eliminated during RFE: {}\\n'.format(X_train.columns[(xgb_reg_rfe.get_support()==False)].values))"
   ]
  },
  {
   "attachments": {},
   "cell_type": "markdown",
   "metadata": {},
   "source": [
    "It seems that the Phase is not the only *useless* attribute. We can eliminate SSD_Theta and origin_lon, too.\n"
   ]
  },
  {
   "attachments": {},
   "cell_type": "markdown",
   "metadata": {},
   "source": [
    "## **Removing Extraneous Features and Optimizing the Model**"
   ]
  },
  {
   "cell_type": "code",
   "execution_count": 244,
   "metadata": {},
   "outputs": [
    {
     "name": "stdout",
     "output_type": "stream",
     "text": [
      "[16:11:35] WARNING: C:\\Users\\dev-admin\\croot2\\xgboost-split_1675461376218\\work\\src\\learner.cc:767: \n",
      "Parameters: { \"num_leaves\" } are not used.\n",
      "\n"
     ]
    },
    {
     "data": {
      "text/html": [
       "<style>#sk-container-id-22 {color: black;background-color: white;}#sk-container-id-22 pre{padding: 0;}#sk-container-id-22 div.sk-toggleable {background-color: white;}#sk-container-id-22 label.sk-toggleable__label {cursor: pointer;display: block;width: 100%;margin-bottom: 0;padding: 0.3em;box-sizing: border-box;text-align: center;}#sk-container-id-22 label.sk-toggleable__label-arrow:before {content: \"▸\";float: left;margin-right: 0.25em;color: #696969;}#sk-container-id-22 label.sk-toggleable__label-arrow:hover:before {color: black;}#sk-container-id-22 div.sk-estimator:hover label.sk-toggleable__label-arrow:before {color: black;}#sk-container-id-22 div.sk-toggleable__content {max-height: 0;max-width: 0;overflow: hidden;text-align: left;background-color: #f0f8ff;}#sk-container-id-22 div.sk-toggleable__content pre {margin: 0.2em;color: black;border-radius: 0.25em;background-color: #f0f8ff;}#sk-container-id-22 input.sk-toggleable__control:checked~div.sk-toggleable__content {max-height: 200px;max-width: 100%;overflow: auto;}#sk-container-id-22 input.sk-toggleable__control:checked~label.sk-toggleable__label-arrow:before {content: \"▾\";}#sk-container-id-22 div.sk-estimator input.sk-toggleable__control:checked~label.sk-toggleable__label {background-color: #d4ebff;}#sk-container-id-22 div.sk-label input.sk-toggleable__control:checked~label.sk-toggleable__label {background-color: #d4ebff;}#sk-container-id-22 input.sk-hidden--visually {border: 0;clip: rect(1px 1px 1px 1px);clip: rect(1px, 1px, 1px, 1px);height: 1px;margin: -1px;overflow: hidden;padding: 0;position: absolute;width: 1px;}#sk-container-id-22 div.sk-estimator {font-family: monospace;background-color: #f0f8ff;border: 1px dotted black;border-radius: 0.25em;box-sizing: border-box;margin-bottom: 0.5em;}#sk-container-id-22 div.sk-estimator:hover {background-color: #d4ebff;}#sk-container-id-22 div.sk-parallel-item::after {content: \"\";width: 100%;border-bottom: 1px solid gray;flex-grow: 1;}#sk-container-id-22 div.sk-label:hover label.sk-toggleable__label {background-color: #d4ebff;}#sk-container-id-22 div.sk-serial::before {content: \"\";position: absolute;border-left: 1px solid gray;box-sizing: border-box;top: 0;bottom: 0;left: 50%;z-index: 0;}#sk-container-id-22 div.sk-serial {display: flex;flex-direction: column;align-items: center;background-color: white;padding-right: 0.2em;padding-left: 0.2em;position: relative;}#sk-container-id-22 div.sk-item {position: relative;z-index: 1;}#sk-container-id-22 div.sk-parallel {display: flex;align-items: stretch;justify-content: center;background-color: white;position: relative;}#sk-container-id-22 div.sk-item::before, #sk-container-id-22 div.sk-parallel-item::before {content: \"\";position: absolute;border-left: 1px solid gray;box-sizing: border-box;top: 0;bottom: 0;left: 50%;z-index: -1;}#sk-container-id-22 div.sk-parallel-item {display: flex;flex-direction: column;z-index: 1;position: relative;background-color: white;}#sk-container-id-22 div.sk-parallel-item:first-child::after {align-self: flex-end;width: 50%;}#sk-container-id-22 div.sk-parallel-item:last-child::after {align-self: flex-start;width: 50%;}#sk-container-id-22 div.sk-parallel-item:only-child::after {width: 0;}#sk-container-id-22 div.sk-dashed-wrapped {border: 1px dashed gray;margin: 0 0.4em 0.5em 0.4em;box-sizing: border-box;padding-bottom: 0.4em;background-color: white;}#sk-container-id-22 div.sk-label label {font-family: monospace;font-weight: bold;display: inline-block;line-height: 1.2em;}#sk-container-id-22 div.sk-label-container {text-align: center;}#sk-container-id-22 div.sk-container {/* jupyter's `normalize.less` sets `[hidden] { display: none; }` but bootstrap.min.css set `[hidden] { display: none !important; }` so we also need the `!important` here to be able to override the default hidden behavior on the sphinx rendered scikit-learn.org. See: https://github.com/scikit-learn/scikit-learn/issues/21755 */display: inline-block !important;position: relative;}#sk-container-id-22 div.sk-text-repr-fallback {display: none;}</style><div id=\"sk-container-id-22\" class=\"sk-top-container\"><div class=\"sk-text-repr-fallback\"><pre>XGBRegressor(base_score=None, booster=None, callbacks=None,\n",
       "             colsample_bylevel=None, colsample_bynode=None,\n",
       "             colsample_bytree=None, early_stopping_rounds=None,\n",
       "             enable_categorical=False, eval_metric=None, feature_types=None,\n",
       "             gamma=None, gpu_id=None, grow_policy=None, importance_type=None,\n",
       "             interaction_constraints=None, learning_rate=0.387514395454483,\n",
       "             max_bin=None, max_cat_threshold=None, max_cat_to_onehot=None,\n",
       "             max_delta_step=None, max_depth=None, max_leaves=None,\n",
       "             min_child_weight=None, missing=nan, monotone_constraints=None,\n",
       "             n_estimators=432, n_jobs=None, num_leaves=20,\n",
       "             num_parallel_tree=None, predictor=None, ...)</pre><b>In a Jupyter environment, please rerun this cell to show the HTML representation or trust the notebook. <br />On GitHub, the HTML representation is unable to render, please try loading this page with nbviewer.org.</b></div><div class=\"sk-container\" hidden><div class=\"sk-item\"><div class=\"sk-estimator sk-toggleable\"><input class=\"sk-toggleable__control sk-hidden--visually\" id=\"sk-estimator-id-58\" type=\"checkbox\" checked><label for=\"sk-estimator-id-58\" class=\"sk-toggleable__label sk-toggleable__label-arrow\">XGBRegressor</label><div class=\"sk-toggleable__content\"><pre>XGBRegressor(base_score=None, booster=None, callbacks=None,\n",
       "             colsample_bylevel=None, colsample_bynode=None,\n",
       "             colsample_bytree=None, early_stopping_rounds=None,\n",
       "             enable_categorical=False, eval_metric=None, feature_types=None,\n",
       "             gamma=None, gpu_id=None, grow_policy=None, importance_type=None,\n",
       "             interaction_constraints=None, learning_rate=0.387514395454483,\n",
       "             max_bin=None, max_cat_threshold=None, max_cat_to_onehot=None,\n",
       "             max_delta_step=None, max_depth=None, max_leaves=None,\n",
       "             min_child_weight=None, missing=nan, monotone_constraints=None,\n",
       "             n_estimators=432, n_jobs=None, num_leaves=20,\n",
       "             num_parallel_tree=None, predictor=None, ...)</pre></div></div></div></div></div>"
      ],
      "text/plain": [
       "XGBRegressor(base_score=None, booster=None, callbacks=None,\n",
       "             colsample_bylevel=None, colsample_bynode=None,\n",
       "             colsample_bytree=None, early_stopping_rounds=None,\n",
       "             enable_categorical=False, eval_metric=None, feature_types=None,\n",
       "             gamma=None, gpu_id=None, grow_policy=None, importance_type=None,\n",
       "             interaction_constraints=None, learning_rate=0.387514395454483,\n",
       "             max_bin=None, max_cat_threshold=None, max_cat_to_onehot=None,\n",
       "             max_delta_step=None, max_depth=None, max_leaves=None,\n",
       "             min_child_weight=None, missing=nan, monotone_constraints=None,\n",
       "             n_estimators=432, n_jobs=None, num_leaves=20,\n",
       "             num_parallel_tree=None, predictor=None, ...)"
      ]
     },
     "execution_count": 244,
     "metadata": {},
     "output_type": "execute_result"
    }
   ],
   "source": [
    "# Remove the Phase, Theta_SSD, and origin_lon\n",
    "x = ar_tcp[['BulkAxisDi','centroid_y', 'centroid_x', 'PMM', 'QBO', 'MEI','Curvature', 'Displacement','origin_lat',\n",
    "       'Amplitude', 'pna_index_cdas', 'nao_index_cdas','month']] # Using physical characteristics contextualized within a synoptic environment using teleconnection pattern indices\n",
    "\n",
    "# Seperate into Test-Train splits\n",
    "X_train, X_test, y_train, y_test = train_test_split(x,y,train_size=0.8,random_state=42, shuffle=True)\n",
    "\n",
    "\n",
    "# Initiate the XGboosted Regressor with the best parameters from RFE\n",
    "xgb_reg = XGBRegressor(**xgb_reg_rfe.best_params_)\n",
    "# Fit the model with the training data\n",
    "xgb_reg.fit(X_train,y_train)\n"
   ]
  },
  {
   "cell_type": "code",
   "execution_count": 253,
   "metadata": {},
   "outputs": [
    {
     "data": {
      "text/plain": [
       "Text(0.5, 1.0, 'Optimized Variable Feature Importance')"
      ]
     },
     "execution_count": 253,
     "metadata": {},
     "output_type": "execute_result"
    },
    {
     "data": {
      "image/png": "[encoded data removed]",
      "text/plain": [
       "<Figure size 640x480 with 1 Axes>"
      ]
     },
     "metadata": {},
     "output_type": "display_data"
    }
   ],
   "source": [
    "# Examine the feature importances\n",
    "plt.barh(xgb_reg.feature_names_in_,xgb_reg.feature_importances_)\n",
    "plt.title('Optimized Variable Feature Importance')"
   ]
  },
  {
   "attachments": {},
   "cell_type": "markdown",
   "metadata": {},
   "source": [
    "### **Functions**"
   ]
  },
  {
   "cell_type": "code",
   "execution_count": 56,
   "metadata": {},
   "outputs": [],
   "source": [
    "from sklearn.metrics import mean_squared_error, r2_score\n",
    "import matplotlib.pyplot as plt\n",
    "\n",
    "def reg_model_metrics(actual, pred):\n",
    "    MSE = mean_squared_error(actual, pred) # root mean squared error\n",
    "    RMSE = np.sqrt(MSE) # root mean squared error\n",
    "    actual_mean = np.mean(actual) # calculate the mean for use below\n",
    "    RRMSE = 100 * RMSE / actual_mean # relative root mean squared error\n",
    "    R2 = r2_score(actual, pred) # coefficient of determination\n",
    "    return RMSE, RRMSE, R2\n",
    "\n",
    "def scatter_plot(y_test, y_pred_test, title):\n",
    "  # Use the model metrics function to calculate RMSE, RRMSE, and R2\n",
    "    RMSE, RRMSE, R2 = reg_model_metrics(y_test, y_pred_test)\n",
    "  # Initialize the figure and axis\n",
    "    fig,ax = plt.subplots(dpi=350)\n",
    "  # Scatter the y_test vs y_pred_testicted values\n",
    "    ax.scatter(y_test, y_pred_test, edgecolors=(0,0,0))\n",
    "  # Plot the line of perfect fir\n",
    "    ax.plot([y_test.min(), y_test.max()], [y_test.min(), y_test.max()], 'r--', lw=2)\n",
    "  # Make a few pieces of text that give the values of R2, RMSE, and RRMSE\n",
    "    text = r\"R2 = %.2f\" % (R2);text += \"\\n\"; text += r\"RMSE = %.2f\" % (RMSE); text += \"\\n\"\n",
    "    text += r\"RRMSE = %.2f\" % (RRMSE) +'%'\n",
    "  # Add the text values to a plot at a particular place on the axis within a box\n",
    "    plt.annotate(text, xy=(0.05, 0.85), xycoords='axes fraction',color='black', fontsize=10,\n",
    "                 bbox=dict(facecolor='none',edgecolor='red'))\n",
    "  # Set the x-axis label\n",
    "    ax.set_xlabel('Actual Average AR IVT')\n",
    "  # Set the y-axis label\n",
    "    ax.set_ylabel('Predicted Average AR IVT')\n",
    "  # Set the plot title\n",
    "    ax.set_title(title)\n",
    "  # Set the background color\n",
    "    fig.patch.set_facecolor('white')\n",
    "  # Show the plot\n",
    "    plt.show()"
   ]
  }
 ],
 "metadata": {
  "kernelspec": {
   "display_name": "xgb_tuning",
   "language": "python",
   "name": "python3"
  },
  "language_info": {
   "codemirror_mode": {
    "name": "ipython",
    "version": 3
   },
   "file_extension": ".py",
   "mimetype": "text/x-python",
   "name": "python",
   "nbconvert_exporter": "python",
   "pygments_lexer": "ipython3",
   "version": "3.11.4"
  },
  "orig_nbformat": 4
 },
 "nbformat": 4,
 "nbformat_minor": 2
}
