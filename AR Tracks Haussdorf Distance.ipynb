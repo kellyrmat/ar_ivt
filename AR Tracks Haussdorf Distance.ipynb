{
 "cells": [
  {
   "attachments": {},
   "cell_type": "markdown",
   "metadata": {},
   "source": [
    "# Calculating Hausdorff distance among AR tracks"
   ]
  },
  {
   "cell_type": "code",
   "execution_count": 21,
   "metadata": {},
   "outputs": [],
   "source": [
    "import pandas as pd\n",
    "from hausdorff import hausdorff_distance\n",
    "import ast\n",
    "import numpy as np"
   ]
  },
  {
   "cell_type": "code",
   "execution_count": 31,
   "metadata": {},
   "outputs": [],
   "source": [
    "# Load in the track dataframe\n",
    "#tracks = pd.read_csv(\"C:/Users/kellyrm/Desktop/Research/Atmospheric River Characteristics-Teleconnection Patterns/track_coordinates.csv\")\n",
    "tracks = pd.read_csv(\"C:/Users/kellyrm/Downloads/track_centroid_coordinates.csv\")"
   ]
  },
  {
   "cell_type": "code",
   "execution_count": 32,
   "metadata": {},
   "outputs": [],
   "source": [
    "# Parse the longitude coordinates\n",
    "x = [ast.literal_eval(tracks.iloc[i]['x_coords']) for i in range(len(tracks))]\n",
    "# And the latitude coordinates\n",
    "y = [ast.literal_eval(tracks.iloc[i]['y_coords']) for i in range(len(tracks))]\n",
    "# Combine each into a coordinates list\n",
    "coords = [list(zip(x[i],y[i])) for i in range(len(tracks))]"
   ]
  },
  {
   "attachments": {},
   "cell_type": "markdown",
   "metadata": {},
   "source": [
    "Calculate the Hausdorff distance between each AR track and build a distance matrix b/w every AR track. "
   ]
  },
  {
   "cell_type": "code",
   "execution_count": 37,
   "metadata": {},
   "outputs": [],
   "source": [
    "# Initilize the distance array\n",
    "d = np.zeros((len(coords),len(coords)))\n",
    "\n",
    "# Loop through each coordinate pair and calculate the HD, add to distance array\n",
    "for i in range(len(coords)):\n",
    "\n",
    "    for j in range(i+1,len(coords)):\n",
    "\n",
    "        d[i,j] = hausdorff_distance(np.asarray(coords[i]),np.asarray(coords[j]))\n",
    "        \n",
    "        \n",
    "## Reflect the UT to LT, fills in the rest\n",
    "d2 = d + d.T\n",
    "    "
   ]
  },
  {
   "attachments": {},
   "cell_type": "markdown",
   "metadata": {},
   "source": [
    "Save the distance array to save time in the future"
   ]
  },
  {
   "cell_type": "code",
   "execution_count": 40,
   "metadata": {},
   "outputs": [],
   "source": [
    "np.save('AR-track_HD-array',d2)"
   ]
  }
 ],
 "metadata": {
  "kernelspec": {
   "display_name": "ar_rf",
   "language": "python",
   "name": "python3"
  },
  "language_info": {
   "codemirror_mode": {
    "name": "ipython",
    "version": 3
   },
   "file_extension": ".py",
   "mimetype": "text/x-python",
   "name": "python",
   "nbconvert_exporter": "python",
   "pygments_lexer": "ipython3",
   "version": "3.11.4"
  },
  "orig_nbformat": 4
 },
 "nbformat": 4,
 "nbformat_minor": 2
}
